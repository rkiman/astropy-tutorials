{
 "cells": [
  {
   "cell_type": "markdown",
   "metadata": {},
   "source": [
    "# Create a User Defined Fitter using astropy.modeling\n",
    "\n",
    "## Authors\n",
    "Rocio Kiman, Lia Corrales and Zé Vinícius.\n",
    "\n",
    "## Learning Goals\n",
    "* Know and understand tools to make user defined fitters with `astropy` and in which cases it could be useful\n",
    "* Learn custom fitters\n",
    "* This tutorial assumes the student knows how to fit data using `astropy.modeling`. Check the first tutorial in case you are not familiar with it [here](https://github.com/astropy/astropy-tutorials/tree/master/tutorials/notebooks/Models-Quick-Fit).\n",
    "\n",
    "## Keywords\n",
    "Modeling, User Defined Fitter, Custom Fitter \n",
    "\n",
    "## Summary\n",
    "In this tutorial, we will learn how to define a new fitter."
   ]
  },
  {
   "cell_type": "code",
   "execution_count": 1,
   "metadata": {},
   "outputs": [],
   "source": [
    "import numpy as np\n",
    "import matplotlib.pyplot as plt\n",
    "from astropy.modeling.fitting import (_validate_model,\n",
    "                                      _fitter_to_model_params,\n",
    "                                      _model_to_fit_params, Fitter,\n",
    "                                      _convert_input)\n",
    "from astropy.modeling.optimizers import Simplex\n",
    "from astropy.modeling import models, fitting\n",
    "from scipy import optimize"
   ]
  },
  {
   "cell_type": "markdown",
   "metadata": {},
   "source": [
    "## Basic idea of a Fitter"
   ]
  },
  {
   "cell_type": "markdown",
   "metadata": {},
   "source": [
    "The objective_function is the error function where we add a measurement to the fit. In this example, the sum of the squared residuals is used as a measure of fitting"
   ]
  },
  {
   "cell_type": "code",
   "execution_count": 2,
   "metadata": {},
   "outputs": [],
   "source": [
    "class SLSQPFitter(Fitter):\n",
    "    supported_constraints = ['bounds', 'eqcons', 'ineqcons', 'fixed',\n",
    "                             'tied']\n",
    "\n",
    "    def __init__(self):\n",
    "        # Most currently defined fitters take no arguments in their\n",
    "        # __init__, but the option certainly exists for custom fitters\n",
    "        super().__init__()\n",
    "        \n",
    "    def objective_function(self, fps, *args):\n",
    "        model = args[0]\n",
    "        meas = args[-1]\n",
    "        model.fitparams(fps)\n",
    "        res = self.model(*args[1:-1]) - meas\n",
    "        return np.sum(res**2)\n",
    "    \n",
    "    def __call__(self, model, x, y, maxiter=100, epsilon=10**(-12)):\n",
    "        if model.linear:\n",
    "                raise ModelLinearityException(\n",
    "                    'Model is linear in parameters; '\n",
    "                    'non-linear fitting methods should not be used.')\n",
    "        model_copy = model.copy()\n",
    "        init_values, _ = _model_to_fit_params(model_copy)\n",
    "        self.fitparams = optimize.fmin_slsqp(self.errorfunc, p0=init_values,\n",
    "                                             args=(y, x),\n",
    "                                             bounds=self.bounds,\n",
    "                                             eqcons=self.eqcons,\n",
    "                                             ineqcons=self.ineqcons)\n",
    "        return model_copy"
   ]
  },
  {
   "cell_type": "code",
   "execution_count": 30,
   "metadata": {},
   "outputs": [],
   "source": [
    "from astropy.modeling.optimizers import (SLSQP, Simplex)\n",
    "from astropy.modeling.statistic import (leastsquare)\n",
    "\n",
    "class SLSQPFitter(Fitter):\n",
    "    def __init__(self):\n",
    "        super().__init__(optimizer=SLSQP, statistic=leastsquare)\n",
    "                        \n",
    "    def errorfunc(self, fps, *args):\n",
    "        meas = args[0]\n",
    "        self.fitpars = fps\n",
    "        res = model(*args[1:]) - meas\n",
    "        return np.sum(res**2)\n",
    "    \n",
    "    def __call__(self, model, x, y , maxiter=100, epsilon=10**(-12)):\n",
    "        b = [model.bounds[key] for key in model.param_names]\n",
    "        self.fitpars = optimize.fmin_slsqp(self.errorfunc, x0=model.parameters[:],\n",
    "        args=(y, x), bounds=b)\n",
    "        #self.objective_function(model.parameters[:],model)\n",
    "        return self.fitpars"
   ]
  },
  {
   "cell_type": "code",
   "execution_count": 25,
   "metadata": {},
   "outputs": [],
   "source": [
    "x = np.linspace(0,1,100)\n",
    "y = 2*x\n",
    "y_err = np.random.normal(0,0.05,100)\n",
    "x_err = np.random.normal(0,0.05,100)"
   ]
  },
  {
   "cell_type": "code",
   "execution_count": 26,
   "metadata": {},
   "outputs": [
    {
     "data": {
      "image/png": "[encoded data removed]",
      "text/plain": [
       "<matplotlib.figure.Figure at 0x10f577c88>"
      ]
     },
     "metadata": {},
     "output_type": "display_data"
    }
   ],
   "source": [
    "plt.errorbar(x,y,yerr=y_err,xerr=x_err,fmt='.')\n",
    "plt.show()"
   ]
  },
  {
   "cell_type": "code",
   "execution_count": 31,
   "metadata": {},
   "outputs": [
    {
     "name": "stdout",
     "output_type": "stream",
     "text": [
      "Optimization terminated successfully.    (Exit mode 0)\n",
      "            Current function value: 33.50168350168351\n",
      "            Iterations: 1\n",
      "            Function evaluations: 4\n",
      "            Gradient evaluations: 1\n"
     ]
    }
   ],
   "source": [
    "model = models.Linear1D()\n",
    "fitter = SLSQPFitter() \n",
    "best_fit2 = fitter(model, x, y)"
   ]
  },
  {
   "cell_type": "code",
   "execution_count": 32,
   "metadata": {},
   "outputs": [
    {
     "name": "stdout",
     "output_type": "stream",
     "text": [
      "[1. 0.]\n"
     ]
    }
   ],
   "source": [
    "print(best_fit2)"
   ]
  },
  {
   "cell_type": "code",
   "execution_count": 33,
   "metadata": {},
   "outputs": [
    {
     "name": "stdout",
     "output_type": "stream",
     "text": [
      "Model: Linear1D\n",
      "Inputs: ('x',)\n",
      "Outputs: ('y',)\n",
      "Model set size: 1\n",
      "Parameters:\n",
      "    slope intercept\n",
      "    ----- ---------\n",
      "      1.0       0.0\n"
     ]
    }
   ],
   "source": [
    "print(model)"
   ]
  },
  {
   "cell_type": "code",
   "execution_count": 29,
   "metadata": {},
   "outputs": [
    {
     "ename": "TypeError",
     "evalue": "'numpy.ndarray' object is not callable",
     "output_type": "error",
     "traceback": [
      "\u001b[0;31m---------------------------------------------------------------------------\u001b[0m",
      "\u001b[0;31mTypeError\u001b[0m                                 Traceback (most recent call last)",
      "\u001b[0;32m<ipython-input-29-82e28db798f7>\u001b[0m in \u001b[0;36m<module>\u001b[0;34m()\u001b[0m\n\u001b[1;32m      1\u001b[0m \u001b[0mplt\u001b[0m\u001b[0;34m.\u001b[0m\u001b[0merrorbar\u001b[0m\u001b[0;34m(\u001b[0m\u001b[0mx\u001b[0m\u001b[0;34m,\u001b[0m\u001b[0my\u001b[0m\u001b[0;34m,\u001b[0m\u001b[0myerr\u001b[0m\u001b[0;34m=\u001b[0m\u001b[0my_err\u001b[0m\u001b[0;34m,\u001b[0m\u001b[0mxerr\u001b[0m\u001b[0;34m=\u001b[0m\u001b[0mx_err\u001b[0m\u001b[0;34m,\u001b[0m\u001b[0mfmt\u001b[0m\u001b[0;34m=\u001b[0m\u001b[0;34m'.'\u001b[0m\u001b[0;34m,\u001b[0m\u001b[0mzorder\u001b[0m\u001b[0;34m=\u001b[0m\u001b[0;36m0\u001b[0m\u001b[0;34m)\u001b[0m\u001b[0;34m\u001b[0m\u001b[0m\n\u001b[0;32m----> 2\u001b[0;31m \u001b[0mplt\u001b[0m\u001b[0;34m.\u001b[0m\u001b[0mplot\u001b[0m\u001b[0;34m(\u001b[0m\u001b[0mx\u001b[0m\u001b[0;34m,\u001b[0m\u001b[0mbest_fit2\u001b[0m\u001b[0;34m(\u001b[0m\u001b[0mx\u001b[0m\u001b[0;34m)\u001b[0m\u001b[0;34m,\u001b[0m\u001b[0;34m'r'\u001b[0m\u001b[0;34m,\u001b[0m\u001b[0mzorder\u001b[0m\u001b[0;34m=\u001b[0m\u001b[0;36m1\u001b[0m\u001b[0;34m)\u001b[0m\u001b[0;34m\u001b[0m\u001b[0m\n\u001b[0m\u001b[1;32m      3\u001b[0m \u001b[0mplt\u001b[0m\u001b[0;34m.\u001b[0m\u001b[0mshow\u001b[0m\u001b[0;34m(\u001b[0m\u001b[0;34m)\u001b[0m\u001b[0;34m\u001b[0m\u001b[0m\n",
      "\u001b[0;31mTypeError\u001b[0m: 'numpy.ndarray' object is not callable"
     ]
    },
    {
     "data": {
      "image/png": "[encoded data removed]",
      "text/plain": [
       "<matplotlib.figure.Figure at 0x10f577978>"
      ]
     },
     "metadata": {},
     "output_type": "display_data"
    }
   ],
   "source": [
    "plt.errorbar(x,y,yerr=y_err,xerr=x_err,fmt='.',zorder=0)\n",
    "plt.plot(x,best_fit2(x),'r',zorder=1)\n",
    "plt.show()"
   ]
  },
  {
   "cell_type": "markdown",
   "metadata": {},
   "source": [
    "## Costum Statistic Function"
   ]
  },
  {
   "cell_type": "markdown",
   "metadata": {},
   "source": [
    "Fit a line with uncertainties in two variables."
   ]
  },
  {
   "cell_type": "code",
   "execution_count": 48,
   "metadata": {},
   "outputs": [],
   "source": [
    "def chi_line(measured_vals, updated_model, x_sigma, y_sigma, x):\n",
    "    \"\"\"\n",
    "    Chi^2 statistic for fitting a straight line with uncertainties in x and\n",
    "    y.\n",
    "\n",
    "    Parameters\n",
    "    ----------\n",
    "    measured_vals : array\n",
    "    updated_model : `~astropy.modeling.ParametricModel`\n",
    "        model with parameters set by the current iteration of the optimizer\n",
    "    x_sigma : array\n",
    "        uncertainties in x\n",
    "    y_sigma : array\n",
    "        uncertainties in y\n",
    "\n",
    "    \"\"\"\n",
    "    model_vals = updated_model(x)\n",
    "    if x_sigma is None and y_sigma is None:\n",
    "        return np.sum((model_vals - measured_vals) ** 2)\n",
    "    elif x_sigma is not None and y_sigma is not None:\n",
    "        weights = 1 / (y_sigma ** 2 + updated_model.parameters[1] ** 2 *\n",
    "                       x_sigma ** 2)\n",
    "        return np.sum((weights * (model_vals - measured_vals)) ** 2)\n",
    "    else:\n",
    "        if x_sigma is not None:\n",
    "            weights = 1 / x_sigma ** 2\n",
    "        else:\n",
    "            weights = 1 / y_sigma ** 2\n",
    "        return np.sum((weights * (model_vals - measured_vals)) ** 2)"
   ]
  },
  {
   "cell_type": "code",
   "execution_count": 49,
   "metadata": {},
   "outputs": [],
   "source": [
    "class LineFitter(Fitter):\n",
    "    \"\"\"\n",
    "    Fit a straight line with uncertainties in both variables\n",
    "\n",
    "    Parameters\n",
    "    ----------\n",
    "    optimizer : class or callable\n",
    "        one of the classes in optimizers.py (default: Simplex)\n",
    "    \"\"\"\n",
    "\n",
    "    def __init__(self, optimizer=Simplex):\n",
    "        self.statistic = chi_line\n",
    "        super().__init__(optimizer, statistic=self.statistic)\n",
    "\n",
    "    def __call__(self, model, x, y, x_sigma=None, y_sigma=None, **kwargs):\n",
    "        \"\"\"\n",
    "        Fit data to this model.\n",
    "\n",
    "        Parameters\n",
    "        ----------\n",
    "        model : `~astropy.modeling.core.ParametricModel`\n",
    "            model to fit to x, y\n",
    "        x : array\n",
    "            input coordinates\n",
    "        y : array\n",
    "            input coordinates\n",
    "        x_sigma : array\n",
    "            uncertainties in x\n",
    "        y_sigma : array\n",
    "            uncertainties in y\n",
    "        kwargs : dict\n",
    "            optional keyword arguments to be passed to the optimizer\n",
    "\n",
    "        Returns\n",
    "        ------\n",
    "        model_copy : `~astropy.modeling.core.ParametricModel`\n",
    "            a copy of the input model with parameters set by the fitter\n",
    "\n",
    "        \"\"\"\n",
    "        model_copy = _validate_model(model,\n",
    "                                     self._opt_method.supported_constraints)\n",
    "\n",
    "        farg = _convert_input(x, y)\n",
    "        farg = (model_copy, x_sigma, y_sigma) + farg\n",
    "        p0, _ = _model_to_fit_params(model_copy)\n",
    "\n",
    "        fitparams, self.fit_info = self._opt_method(\n",
    "            self.objective_function, p0, farg, **kwargs)\n",
    "        _fitter_to_model_params(model_copy, fitparams)\n",
    "\n",
    "        return model_copy"
   ]
  },
  {
   "cell_type": "markdown",
   "metadata": {},
   "source": [
    "Compare goodness of fit with this new fitter and one with only errors in y."
   ]
  },
  {
   "cell_type": "code",
   "execution_count": 50,
   "metadata": {},
   "outputs": [
    {
     "name": "stderr",
     "output_type": "stream",
     "text": [
      "WARNING: Model is linear in parameters; consider using linear fitting methods. [astropy.modeling.fitting]\n"
     ]
    }
   ],
   "source": [
    "model = models.Linear1D()\n",
    "fitter = LineFitter() \n",
    "best_fit = fitter(model, x, y, x_sigma = x_err, y_sigma=y_err)"
   ]
  },
  {
   "cell_type": "code",
   "execution_count": 57,
   "metadata": {},
   "outputs": [
    {
     "data": {
      "image/png": "[encoded data removed]",
      "text/plain": [
       "<matplotlib.figure.Figure at 0x181e54f208>"
      ]
     },
     "metadata": {},
     "output_type": "display_data"
    }
   ],
   "source": [
    "plt.errorbar(x,y,yerr=y_err,xerr=x_err,fmt='.',zorder=0)\n",
    "plt.plot(x,best_fit(x),'r',zorder=1)\n",
    "plt.show()"
   ]
  },
  {
   "cell_type": "code",
   "execution_count": null,
   "metadata": {},
   "outputs": [],
   "source": []
  }
 ],
 "metadata": {
  "kernelspec": {
   "display_name": "Python 3",
   "language": "python",
   "name": "python3"
  },
  "language_info": {
   "codemirror_mode": {
    "name": "ipython",
    "version": 3
   },
   "file_extension": ".py",
   "mimetype": "text/x-python",
   "name": "python",
   "nbconvert_exporter": "python",
   "pygments_lexer": "ipython3",
   "version": "3.6.4"
  }
 },
 "nbformat": 4,
 "nbformat_minor": 2
}
