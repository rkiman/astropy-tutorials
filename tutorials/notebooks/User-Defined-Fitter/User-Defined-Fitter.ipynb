{
 "cells": [
  {
   "cell_type": "markdown",
   "metadata": {},
   "source": [
    "# Create a User Defined Fitter using astropy.modeling\n",
    "\n",
    "## Authors\n",
    "Rocio Kiman, Lia Corrales and Zé Vinícius.\n",
    "\n",
    "## Learning Goals\n",
    "* Know and understand tools to make user defined fitters with `astropy`\n",
    "* Learn custom fitters\n",
    "* This tutorial assumes the student knows how to fit data using `astropy.modeling`. Check the tutorial [Make a Quick Fit Using astropy.modeling](https://astropy-tutorials.readthedocs.io/en/latest/rst-tutorials/Models-Quick-Fit.html).\n",
    "\n",
    "## Keywords\n",
    "Modeling, User Defined Fitter, Custom Fitter \n",
    "\n",
    "## Summary\n",
    "In this tutorial, we will learn how to define a new fitter."
   ]
  },
  {
   "cell_type": "code",
   "execution_count": 205,
   "metadata": {},
   "outputs": [],
   "source": [
    "import numpy as np\n",
    "import matplotlib.pyplot as plt\n",
    "from astropy.modeling.fitting import (_validate_model,\n",
    "                                      _fitter_to_model_params,\n",
    "                                      _model_to_fit_params, Fitter,\n",
    "                                      _convert_input)\n",
    "from astropy.modeling.optimizers import Simplex\n",
    "from astropy.modeling import models, fitting\n",
    "from scipy import optimize\n",
    "from astropy.modeling.fitting import Fitter"
   ]
  },
  {
   "cell_type": "markdown",
   "metadata": {},
   "source": [
    "## Basic idea of a Fitter & Custom Statistic Function"
   ]
  },
  {
   "cell_type": "markdown",
   "metadata": {},
   "source": [
    "[Defining New Fitters](http://docs.astropy.org/en/stable/modeling/new.html#defining-new-fitter-classes)"
   ]
  },
  {
   "cell_type": "markdown",
   "metadata": {},
   "source": [
    "## Linear fit with errors in x and y\n",
    "\n",
    "Fit a line with uncertainties in two variables."
   ]
  },
  {
   "cell_type": "code",
   "execution_count": 469,
   "metadata": {},
   "outputs": [],
   "source": [
    "N = 20\n",
    "x = np.array([np.random.normal(j,0.01) for j in np.linspace(0,1,N)])\n",
    "y = np.array([np.random.normal(j,0.02) for j in 2*np.linspace(0,1,N)])\n",
    "y_err = np.random.normal(0,0.02,N)\n",
    "x_err = np.random.normal(0,0.01,N)"
   ]
  },
  {
   "cell_type": "code",
   "execution_count": 470,
   "metadata": {},
   "outputs": [
    {
     "data": {
      "image/png": "[encoded data removed]",
      "text/plain": [
       "<matplotlib.figure.Figure at 0x181ec412b0>"
      ]
     },
     "metadata": {},
     "output_type": "display_data"
    }
   ],
   "source": [
    "plt.errorbar(x,y,yerr=y_err,xerr=x_err,fmt='.')\n",
    "plt.show()"
   ]
  },
  {
   "cell_type": "code",
   "execution_count": 471,
   "metadata": {},
   "outputs": [],
   "source": [
    "def calc_reduced_chi_square(fit, N, n_free,x, y, yerr, xerr = 0):\n",
    "    '''\n",
    "    fit (array) values for the fit\n",
    "    x,y,yerr (arrays) data\n",
    "    N total number of points\n",
    "    n_free number of parameters we are fitting\n",
    "    '''\n",
    "    if xerr is not 0:\n",
    "        return 1.0/(N-n_free)*sum((fit(x) - y)**2/(yerr**2+fit.parameters[0]**2*xerr**2))\n",
    "    else: \n",
    "        return 1.0/(N-n_free)*sum(((fit(x) - y)/yerr)**2)"
   ]
  },
  {
   "cell_type": "markdown",
   "metadata": {},
   "source": [
    "# Using known fitters"
   ]
  },
  {
   "cell_type": "code",
   "execution_count": 472,
   "metadata": {},
   "outputs": [],
   "source": [
    "linear_model = models.Linear1D()\n",
    "linearlsqfitter = fitting.LinearLSQFitter() \n",
    "fit_lsq = linearlsqfitter(linear_model, x, y, weights = 1.0/y_err**2)"
   ]
  },
  {
   "cell_type": "code",
   "execution_count": 473,
   "metadata": {},
   "outputs": [
    {
     "name": "stdout",
     "output_type": "stream",
     "text": [
      "2.073106001724502\n"
     ]
    }
   ],
   "source": [
    "reduce_chi_squared_lsq = calc_reduced_chi_square(fit_lsq, len(x), 2, x, y, y_err, x_err)\n",
    "print(reduce_chi_squared_lsq)"
   ]
  },
  {
   "cell_type": "code",
   "execution_count": 474,
   "metadata": {},
   "outputs": [
    {
     "data": {
      "image/png": "[encoded data removed]",
      "text/plain": [
       "<matplotlib.figure.Figure at 0x181f37f4e0>"
      ]
     },
     "metadata": {},
     "output_type": "display_data"
    }
   ],
   "source": [
    "plt.errorbar(x,y,yerr=y_err,xerr=x_err,fmt='.',zorder=0)\n",
    "plt.plot(x,fit_lsq(x),'r',zorder=1)\n",
    "plt.show()"
   ]
  },
  {
   "cell_type": "markdown",
   "metadata": {},
   "source": [
    "# Define a Simple fitter & Statistic Function using Least absolute deviations"
   ]
  },
  {
   "cell_type": "markdown",
   "metadata": {},
   "source": [
    "**Statistic Function**. Least absolute deviation is more robust. Based on [this astropy example](http://docs.astropy.org/en/stable/modeling/new.html#using-a-custom-statistic-function)."
   ]
  },
  {
   "cell_type": "code",
   "execution_count": 475,
   "metadata": {},
   "outputs": [],
   "source": [
    "def lad(measured_vals, updated_model, x_sigma, y_sigma, x):\n",
    "    model_vals = updated_model(x)\n",
    "\n",
    "    return np.sum(abs(model_vals - measured_vals))"
   ]
  },
  {
   "cell_type": "markdown",
   "metadata": {},
   "source": [
    "**optimizer**: Simplex and we choose **statistic**. Basic model"
   ]
  },
  {
   "cell_type": "code",
   "execution_count": 476,
   "metadata": {},
   "outputs": [],
   "source": [
    "class LineFitterLAD(Fitter):\n",
    "    \"\"\"\n",
    "    Fit a straight line with uncertainties in both variables\n",
    "\n",
    "    Parameters\n",
    "    ----------\n",
    "    optimizer : class or callable\n",
    "        one of the classes in optimizers.py (default: Simplex)\n",
    "    \"\"\"\n",
    "\n",
    "    def __init__(self, optimizer=Simplex):\n",
    "        self.statistic = lad\n",
    "        super().__init__(optimizer, statistic=self.statistic)\n",
    "\n",
    "    def __call__(self, model, x, y, x_sigma=None, y_sigma=None, **kwargs):\n",
    "        \"\"\"\n",
    "        Fit data to this model.\n",
    "\n",
    "        Parameters\n",
    "        ----------\n",
    "        model : `~astropy.modeling.core.ParametricModel`\n",
    "            model to fit to x, y\n",
    "        x : array\n",
    "            input coordinates\n",
    "        y : array\n",
    "            input coordinates\n",
    "        x_sigma : array\n",
    "            uncertainties in x\n",
    "        y_sigma : array\n",
    "            uncertainties in y\n",
    "        kwargs : dict\n",
    "            optional keyword arguments to be passed to the optimizer\n",
    "\n",
    "        Returns\n",
    "        ------\n",
    "        model_copy : `~astropy.modeling.core.ParametricModel`\n",
    "            a copy of the input model with parameters set by the fitter\n",
    "\n",
    "        \"\"\"\n",
    "        model_copy = _validate_model(model,\n",
    "                                     self._opt_method.supported_constraints)\n",
    "\n",
    "        farg = _convert_input(x, y)\n",
    "        farg = (model_copy, x_sigma, y_sigma) + farg\n",
    "        p0, _ = _model_to_fit_params(model_copy)\n",
    "\n",
    "        fitparams, self.fit_info = self._opt_method(\n",
    "            self.objective_function, p0, farg, **kwargs)\n",
    "        _fitter_to_model_params(model_copy, fitparams)\n",
    "\n",
    "        return model_copy"
   ]
  },
  {
   "cell_type": "code",
   "execution_count": 477,
   "metadata": {},
   "outputs": [
    {
     "name": "stderr",
     "output_type": "stream",
     "text": [
      "WARNING: Model is linear in parameters; consider using linear fitting methods. [astropy.modeling.fitting]\n"
     ]
    }
   ],
   "source": [
    "linefitterlad = LineFitterLAD() \n",
    "fit_lad = linefitterlad(model_poly, x, y, x_sigma=x_err, y_sigma=y_err)"
   ]
  },
  {
   "cell_type": "code",
   "execution_count": 478,
   "metadata": {},
   "outputs": [
    {
     "name": "stdout",
     "output_type": "stream",
     "text": [
      "30.903358278173414\n"
     ]
    }
   ],
   "source": [
    "reduced_chi_squared_lad = calc_reduced_chi_square(fit_lad, len(x), 2, x, y, y_err, x_err)\n",
    "print(reduced_chi_squared_lad)"
   ]
  },
  {
   "cell_type": "code",
   "execution_count": 479,
   "metadata": {},
   "outputs": [
    {
     "data": {
      "image/png": "[encoded data removed]",
      "text/plain": [
       "<matplotlib.figure.Figure at 0x181ead5e48>"
      ]
     },
     "metadata": {},
     "output_type": "display_data"
    }
   ],
   "source": [
    "plt.errorbar(x,y,yerr=y_err,xerr=x_err,fmt='.',zorder=0)\n",
    "plt.plot(x,fit_lad(x),'g')\n",
    "plt.show()"
   ]
  },
  {
   "cell_type": "markdown",
   "metadata": {},
   "source": [
    "# Statistic Function using both errors"
   ]
  },
  {
   "cell_type": "code",
   "execution_count": 480,
   "metadata": {},
   "outputs": [],
   "source": [
    "def chi_line(measured_vals, updated_model, x_sigma, y_sigma, x):\n",
    "    \"\"\"\n",
    "    Chi^2 statistic for fitting a straight line with uncertainties in x and\n",
    "    y.\n",
    "\n",
    "    Parameters\n",
    "    ----------\n",
    "    measured_vals : array\n",
    "    updated_model : `~astropy.modeling.ParametricModel`\n",
    "        model with parameters set by the current iteration of the optimizer\n",
    "    x_sigma : array\n",
    "        uncertainties in x\n",
    "    y_sigma : array\n",
    "        uncertainties in y\n",
    "\n",
    "    \"\"\"\n",
    "    model_vals = updated_model(x)\n",
    "    if x_sigma is None and y_sigma is None:\n",
    "        return np.sum((model_vals - measured_vals) ** 2)\n",
    "    elif x_sigma is not None and y_sigma is not None:\n",
    "        weights = 1 / (y_sigma ** 2 + updated_model.parameters[0] ** 2 *\n",
    "                       x_sigma ** 2)\n",
    "        return np.sum((weights * (model_vals - measured_vals)) ** 2)\n",
    "    else:\n",
    "        if x_sigma is not None:\n",
    "            weights = 1 / x_sigma ** 2\n",
    "        else:\n",
    "            weights = 1 / y_sigma ** 2\n",
    "        return np.sum((weights * (model_vals - measured_vals)) ** 2)"
   ]
  },
  {
   "cell_type": "code",
   "execution_count": 481,
   "metadata": {},
   "outputs": [],
   "source": [
    "class LineFitterChiLine(Fitter):\n",
    "    \"\"\"\n",
    "    Fit a straight line with uncertainties in both variables\n",
    "\n",
    "    Parameters\n",
    "    ----------\n",
    "    optimizer : class or callable\n",
    "        one of the classes in optimizers.py (default: Simplex)\n",
    "    \"\"\"\n",
    "\n",
    "    def __init__(self, optimizer=Simplex):\n",
    "        self.statistic = chi_line\n",
    "        super().__init__(optimizer, statistic=self.statistic)\n",
    "\n",
    "    def __call__(self, model, x, y, x_sigma=None, y_sigma=None, **kwargs):\n",
    "        \"\"\"\n",
    "        Fit data to this model.\n",
    "\n",
    "        Parameters\n",
    "        ----------\n",
    "        model : `~astropy.modeling.core.ParametricModel`\n",
    "            model to fit to x, y\n",
    "        x : array\n",
    "            input coordinates\n",
    "        y : array\n",
    "            input coordinates\n",
    "        x_sigma : array\n",
    "            uncertainties in x\n",
    "        y_sigma : array\n",
    "            uncertainties in y\n",
    "        kwargs : dict\n",
    "            optional keyword arguments to be passed to the optimizer\n",
    "\n",
    "        Returns\n",
    "        ------\n",
    "        model_copy : `~astropy.modeling.core.ParametricModel`\n",
    "            a copy of the input model with parameters set by the fitter\n",
    "\n",
    "        \"\"\"\n",
    "        model_copy = _validate_model(model,\n",
    "                                     self._opt_method.supported_constraints)\n",
    "\n",
    "        farg = _convert_input(x, y)\n",
    "        farg = (model_copy, x_sigma, y_sigma) + farg\n",
    "        p0, _ = _model_to_fit_params(model_copy)\n",
    "\n",
    "        fitparams, self.fit_info = self._opt_method(\n",
    "            self.objective_function, p0, farg, **kwargs)\n",
    "        _fitter_to_model_params(model_copy, fitparams)\n",
    "\n",
    "        return model_copy"
   ]
  },
  {
   "cell_type": "code",
   "execution_count": 482,
   "metadata": {},
   "outputs": [
    {
     "name": "stderr",
     "output_type": "stream",
     "text": [
      "WARNING: Model is linear in parameters; consider using linear fitting methods. [astropy.modeling.fitting]\n"
     ]
    }
   ],
   "source": [
    "linefitterchiline = LineFitterChiLine() \n",
    "fit_chiline = linefitterchiline(linear_model, x, y, x_sigma=x_err, y_sigma=y_err)"
   ]
  },
  {
   "cell_type": "code",
   "execution_count": 483,
   "metadata": {},
   "outputs": [
    {
     "name": "stdout",
     "output_type": "stream",
     "text": [
      "1.3674967217124447\n"
     ]
    }
   ],
   "source": [
    "reduced_chi_squared_chiline = calc_reduced_chi_square(fit_chiline, len(x), 2, x, y, y_err, x_err)\n",
    "print(reduced_chi_squared_chiline)"
   ]
  },
  {
   "cell_type": "code",
   "execution_count": 484,
   "metadata": {},
   "outputs": [
    {
     "data": {
      "image/png": "[encoded data removed]",
      "text/plain": [
       "<matplotlib.figure.Figure at 0x181e460550>"
      ]
     },
     "metadata": {},
     "output_type": "display_data"
    }
   ],
   "source": [
    "plt.errorbar(x,y,yerr=y_err,xerr=x_err,fmt='.',zorder=0)\n",
    "plt.plot(x,fit_chiline(x),'k')\n",
    "plt.show()"
   ]
  },
  {
   "cell_type": "markdown",
   "metadata": {},
   "source": [
    "# Comparing the three"
   ]
  },
  {
   "cell_type": "code",
   "execution_count": 485,
   "metadata": {},
   "outputs": [
    {
     "data": {
      "image/png": "[encoded data removed]",
      "text/plain": [
       "<matplotlib.figure.Figure at 0x10ecfb3c8>"
      ]
     },
     "metadata": {},
     "output_type": "display_data"
    }
   ],
   "source": [
    "plt.errorbar(x,y,yerr=y_err,xerr=x_err,fmt='.',zorder=0)\n",
    "plt.plot(x,fit_lsq(x),'r',label='LSQ: {}'.format(round(reduce_chi_squared_lsq,2)))\n",
    "plt.plot(x,fit_lad(x),'g',label='LAD: {}'.format(round(reduced_chi_squared_lad,2)))\n",
    "plt.plot(x,fit_chiline(x),'k', label='Chi Line: {}'.format(round(reduced_chi_squared_chiline,2)))\n",
    "plt.legend()\n",
    "plt.show()"
   ]
  },
  {
   "cell_type": "code",
   "execution_count": 486,
   "metadata": {},
   "outputs": [
    {
     "name": "stdout",
     "output_type": "stream",
     "text": [
      "Model: Linear1D\n",
      "Inputs: ('x',)\n",
      "Outputs: ('y',)\n",
      "Model set size: 1\n",
      "Parameters:\n",
      "          slope             intercept     \n",
      "    ------------------ -------------------\n",
      "    1.9822708319854245 0.02298044596363817\n",
      "Model: Linear1D\n",
      "Inputs: ('x',)\n",
      "Outputs: ('y',)\n",
      "Model set size: 1\n",
      "Parameters:\n",
      "          slope              intercept       \n",
      "    ----------------- -----------------------\n",
      "    1.989882062186355 -0.00031638236691745945\n",
      "Model: Linear1D\n",
      "Inputs: ('x',)\n",
      "Outputs: ('y',)\n",
      "Model set size: 1\n",
      "Parameters:\n",
      "          slope             intercept     \n",
      "    ------------------ -------------------\n",
      "    1.9305570696885028 0.03348123886995668\n"
     ]
    }
   ],
   "source": [
    "print(fit_lsq)\n",
    "print(fit_lad)\n",
    "print(fit_chiline)"
   ]
  },
  {
   "cell_type": "markdown",
   "metadata": {},
   "source": [
    "# Try again using the first slope we got"
   ]
  },
  {
   "cell_type": "code",
   "execution_count": 459,
   "metadata": {},
   "outputs": [],
   "source": [
    "linearlsqfitter = fitting.LinearLSQFitter() \n",
    "a = fit_lsq(0)\n",
    "fit_lsq_new = linearlsqfitter(linear_model, x, y, weights = 1.0/(y_err**2+a**2*x_err**2))"
   ]
  },
  {
   "cell_type": "code",
   "execution_count": 460,
   "metadata": {},
   "outputs": [
    {
     "name": "stdout",
     "output_type": "stream",
     "text": [
      "9.215968311245069\n"
     ]
    }
   ],
   "source": [
    "print(calc_reduced_chi_square(fit_lsq_new, len(x), 2, x, y, y_err, x_err))"
   ]
  },
  {
   "cell_type": "code",
   "execution_count": 461,
   "metadata": {},
   "outputs": [
    {
     "name": "stdout",
     "output_type": "stream",
     "text": [
      "Model: Linear1D\n",
      "Inputs: ('x',)\n",
      "Outputs: ('y',)\n",
      "Model set size: 1\n",
      "Parameters:\n",
      "          slope            intercept      \n",
      "    ----------------- --------------------\n",
      "    2.089611592235101 -0.05688917697919951\n"
     ]
    }
   ],
   "source": [
    "print(fit_lsq_new)"
   ]
  },
  {
   "cell_type": "code",
   "execution_count": 462,
   "metadata": {},
   "outputs": [
    {
     "data": {
      "image/png": "[encoded data removed]",
      "text/plain": [
       "<matplotlib.figure.Figure at 0x181f352a58>"
      ]
     },
     "metadata": {},
     "output_type": "display_data"
    }
   ],
   "source": [
    "plt.errorbar(x,y,yerr=y_err,xerr=x_err,fmt='.',zorder=0)\n",
    "plt.plot(x,fit_lsq_new(x),'r')\n",
    "plt.show()"
   ]
  },
  {
   "cell_type": "code",
   "execution_count": null,
   "metadata": {},
   "outputs": [],
   "source": []
  }
 ],
 "metadata": {
  "kernelspec": {
   "display_name": "Python 3",
   "language": "python",
   "name": "python3"
  },
  "language_info": {
   "codemirror_mode": {
    "name": "ipython",
    "version": 3
   },
   "file_extension": ".py",
   "mimetype": "text/x-python",
   "name": "python",
   "nbconvert_exporter": "python",
   "pygments_lexer": "ipython3",
   "version": "3.6.4"
  }
 },
 "nbformat": 4,
 "nbformat_minor": 2
}
